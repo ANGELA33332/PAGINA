{
 "cells": [
  {
   "cell_type": "markdown",
   "metadata": {},
   "source": [
    "<center>\n",
    "    <img src=\"https://cf-courses-data.s3.us.cloud-object-storage.appdomain.cloud/IBMDeveloperSkillsNetwork-DS0105EN-SkillsNetwork/labs/Module2/images/SN_web_lightmode.png\" width=\"300\" alt=\"cognitiveclass.ai logo\">\n",
    "</center>\n"
   ]
  },
  {
   "cell_type": "markdown",
   "metadata": {},
   "source": [
    "#### Add your code below following the instructions given in the course\n"
   ]
  },
  {
   "cell_type": "markdown",
   "metadata": {},
   "source": [
    "# INICIO A MARKDOWN\n",
    "**Curso:** DATA CIENCE\n",
    "**Alumno:** ANGELICA PANIAGUA  \n",
    "**Fecha:** 18 de mayo de 2025\n"
   ]
  },
  {
   "cell_type": "markdown",
   "metadata": {},
   "source": [
    "Este notebook ha sido creado como parte del curso de Data Science para practicar los conceptos básicos de Markdown y Python.\n"
   ]
  },
  {
   "cell_type": "markdown",
   "metadata": {},
   "source": [
    "Los siguientes son algunos de los lenguajes más utilizados en la ciencia de datos\n",
    "1. Python  \n",
    "2. R  \n",
    "3. SQL  \n",
    "4. Julia  \n",
    "5. Scala  \n"
   ]
  },
  {
   "cell_type": "markdown",
   "metadata": {},
   "source": [
    "A continuación se enumeran algunas bibliotecas populares utilizadas en ciencia de datos:\n",
    "1. Pandas  \n",
    "2. NumPy  \n",
    "3. Matplotlib  \n",
    "4. Scikit-learn  \n",
    "5. TensorFlow\n"
   ]
  },
  {
   "cell_type": "markdown",
   "metadata": {},
   "source": [
    "A continuación, se presenta una tabla con herramientas comunes en ciencia de datos:\n",
    "\n",
    "| Herramienta         | Tipo                  | Descripción breve                          |\n",
    "|---------------------|-----------------------|---------------------------------------------|\n",
    "| Jupyter Notebook    | Entorno de desarrollo | Ideal para escribir y ejecutar código Python |\n",
    "| RStudio             | Entorno de desarrollo | Usado comúnmente para proyectos en R        |\n",
    "| Apache Spark        | Motor de análisis     | Procesamiento de grandes volúmenes de datos |\n"
   ]
  },
  {
   "cell_type": "markdown",
   "metadata": {},
   "source": [
    "En esta sección se presentan algunos ejemplos de expresiones aritméticas básicas utilizando Python.\n"
   ]
  },
  {
   "cell_type": "code",
   "execution_count": 3,
   "metadata": {},
   "outputs": [
    {
     "data": {
      "text/plain": [
       "23"
      ]
     },
     "execution_count": 3,
     "metadata": {},
     "output_type": "execute_result"
    }
   ],
   "source": [
    "# Este código multiplica y luego suma dos números\n",
    "multiplicacion = 5 * 4\n",
    "suma = multiplicacion + 3\n",
    "suma\n",
    "\n"
   ]
  },
  {
   "cell_type": "code",
   "execution_count": 4,
   "metadata": {},
   "outputs": [
    {
     "name": "stdout",
     "output_type": "stream",
     "text": [
      "2.5\n"
     ]
    }
   ],
   "source": [
    "# Conversión de minutos a horas\n",
    "minutos = 150\n",
    "horas = minutos / 60\n",
    "print(horas)\n"
   ]
  },
  {
   "cell_type": "markdown",
   "metadata": {},
   "source": [
    "## Rebajas disponibles\n",
    "\n",
    "A continuación, se presentan algunas de las principales rebajas que se pueden aprovechar:\n",
    "- 20% de descuento en productos electrónicos  \n",
    "- 15% de descuento en ropa deportiva  \n",
    "- 10% de descuento en artículos para el hogar  \n",
    "- Envío gratis en compras mayores a S/150  \n"
   ]
  },
  {
   "cell_type": "markdown",
   "metadata": {},
   "source": [
    "### Autor\n",
    "\n",
    "**Nombre:** Angelica Paniagua\n",
    "**Correo:** angelica.paniagua@gmail.com  \n",
    "**Fecha:** 18 de mayo de 2025\n"
   ]
  },
  {
   "cell_type": "code",
   "execution_count": null,
   "metadata": {},
   "outputs": [],
   "source": []
  }
 ],
 "metadata": {
  "kernelspec": {
   "display_name": "Python 3 (ipykernel)",
   "language": "python",
   "name": "python3"
  },
  "language_info": {
   "codemirror_mode": {
    "name": "ipython",
    "version": 3
   },
   "file_extension": ".py",
   "mimetype": "text/x-python",
   "name": "python",
   "nbconvert_exporter": "python",
   "pygments_lexer": "ipython3",
   "version": "3.12.8"
  }
 },
 "nbformat": 4,
 "nbformat_minor": 4
}
